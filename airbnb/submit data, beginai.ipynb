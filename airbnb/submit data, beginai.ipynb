{
 "cells": [
  {
   "cell_type": "code",
   "execution_count": 8,
   "id": "324d8565",
   "metadata": {},
   "outputs": [],
   "source": [
    "import beginai as bg"
   ]
  },
  {
   "cell_type": "code",
   "execution_count": 15,
   "id": "a65e6cca",
   "metadata": {},
   "outputs": [],
   "source": [
    "# replace with your app_id and license_key which can be found in the settings page in your dashboard.\n",
    "APP_ID = \"b8565560-3a20-48ff-a69a-e58492b8ed3e\"\n",
    "LICENSE_KEY = \"gb_-OrJbc_ySEmgt-t0PUKrYLbnTin_zOfC4f-jF6cCbwsdIsVoKgHP51eYD81C-Rdx8E4Q4HkXNk8oAo27RG5c1Rn_4U6pz59EJmV80JOSY9wxcsZ8FI7iK3SeFGvK7AahLCnR\"\n",
    "\n",
    "algo_applier = bg.AlgorithmsApplier(app_id=APP_ID, license_key=LICENSE_KEY)\n"
   ]
  },
  {
   "cell_type": "code",
   "execution_count": 16,
   "id": "c20db07e",
   "metadata": {},
   "outputs": [],
   "source": [
    "algo_applier.load_object_data(\"data/airbnb_dataset_for_beginai.csv\", \"home\", \"id\", label_column='booking_rate')"
   ]
  },
  {
   "cell_type": "code",
   "execution_count": 17,
   "id": "5a286575",
   "metadata": {},
   "outputs": [
    {
     "name": "stdout",
     "output_type": "stream",
     "text": [
      "Start time:  2022-05-04 13:56:31.213379\n"
     ]
    },
    {
     "name": "stderr",
     "output_type": "stream",
     "text": [
      "5556it [00:01, 4213.09it/s]\n"
     ]
    },
    {
     "name": "stdout",
     "output_type": "stream",
     "text": [
      "Working on submitting existing set. please wait.\n",
      "Submiting embeddings associated with home\n",
      "submitted 5556 at index 0 out of 5556 home\n",
      "End time:  2022-05-04 13:56:37.809998\n"
     ]
    }
   ],
   "source": [
    "algo_applier.learn_from_data()"
   ]
  },
  {
   "cell_type": "code",
   "execution_count": null,
   "id": "66da6579",
   "metadata": {},
   "outputs": [],
   "source": []
  }
 ],
 "metadata": {
  "kernelspec": {
   "display_name": "Python 3 (ipykernel)",
   "language": "python",
   "name": "python3"
  },
  "language_info": {
   "codemirror_mode": {
    "name": "ipython",
    "version": 3
   },
   "file_extension": ".py",
   "mimetype": "text/x-python",
   "name": "python",
   "nbconvert_exporter": "python",
   "pygments_lexer": "ipython3",
   "version": "3.9.2"
  }
 },
 "nbformat": 4,
 "nbformat_minor": 5
}
