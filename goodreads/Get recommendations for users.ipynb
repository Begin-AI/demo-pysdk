{
 "cells": [
  {
   "cell_type": "code",
   "execution_count": 1,
   "id": "4c5aecf7",
   "metadata": {},
   "outputs": [
    {
     "name": "stdout",
     "output_type": "stream",
     "text": [
      "Loading Distributed Embeddings libraries only, skipping federated deep learning.\n"
     ]
    }
   ],
   "source": [
    "import beginai as bg"
   ]
  },
  {
   "cell_type": "code",
   "execution_count": 2,
   "id": "5658794f",
   "metadata": {},
   "outputs": [],
   "source": [
    "APP_ID = \"eaf848a4-9248-4959-9f68-5207ca99750f\"\n",
    "LICENSE_KEY = \"gb_mmY1QjtNMKImxKxqA4aah5r7st0DeNLWBrYWzfyULkp2qiYs9d89uEBgqv79qq5FeOnfEjUIXR07T5dhSt9_ArmS6IV73GnRIUG6V2nnx6aA1uIM2xWFdg0qmnzrbKiIKkfZ\"\n",
    "client = bg.AlgorithmsApplier(app_id=APP_ID, license_key=LICENSE_KEY)"
   ]
  },
  {
   "cell_type": "code",
   "execution_count": 6,
   "id": "e4873468",
   "metadata": {},
   "outputs": [
    {
     "data": {
      "text/plain": [
       "[{'object_id': '25190693',\n",
       "  'person_id': '11',\n",
       "  'similarity': 0.7192863865075461},\n",
       " {'object_id': '26510224',\n",
       "  'person_id': '11',\n",
       "  'similarity': 0.7166986667534728},\n",
       " {'object_id': '26070745',\n",
       "  'person_id': '11',\n",
       "  'similarity': 0.7166985197111042},\n",
       " {'object_id': '35831214',\n",
       "  'person_id': '11',\n",
       "  'similarity': 0.7145843510752986},\n",
       " {'object_id': '22450255',\n",
       "  'person_id': '11',\n",
       "  'similarity': 0.7145057794962538},\n",
       " {'object_id': '25215823',\n",
       "  'person_id': '11',\n",
       "  'similarity': 0.7134307886877514},\n",
       " {'object_id': '23290444',\n",
       "  'person_id': '11',\n",
       "  'similarity': 0.7130507365449935},\n",
       " {'object_id': '35542923',\n",
       "  'person_id': '11',\n",
       "  'similarity': 0.7123673701986797},\n",
       " {'object_id': '11253311',\n",
       "  'person_id': '11',\n",
       "  'similarity': 0.7123672080764274},\n",
       " {'object_id': '24432828',\n",
       "  'person_id': '11',\n",
       "  'similarity': 0.7107186193953478}]"
      ]
     },
     "execution_count": 6,
     "metadata": {},
     "output_type": "execute_result"
    }
   ],
   "source": [
    "client.recommend(project_public_id = '8e9a621b-bc66-45d7-99b2-044e5c4b9f87', user_id = '11', limit = 10, page = 1)"
   ]
  },
  {
   "cell_type": "code",
   "execution_count": null,
   "id": "47c19f63",
   "metadata": {},
   "outputs": [],
   "source": []
  }
 ],
 "metadata": {
  "kernelspec": {
   "display_name": "Python 3 (ipykernel)",
   "language": "python",
   "name": "python3"
  },
  "language_info": {
   "codemirror_mode": {
    "name": "ipython",
    "version": 3
   },
   "file_extension": ".py",
   "mimetype": "text/x-python",
   "name": "python",
   "nbconvert_exporter": "python",
   "pygments_lexer": "ipython3",
   "version": "3.9.2"
  }
 },
 "nbformat": 4,
 "nbformat_minor": 5
}
